{
 "cells": [
  {
   "cell_type": "markdown",
   "metadata": {},
   "source": [
    "Chapter 3: Lists in Python"
   ]
  },
  {
   "cell_type": "markdown",
   "metadata": {},
   "source": [
    "Exercise 3-1: Names"
   ]
  },
  {
   "cell_type": "code",
   "execution_count": 2,
   "metadata": {},
   "outputs": [
    {
     "name": "stdout",
     "output_type": "stream",
     "text": [
      "Abdullah\n",
      "Ali\n",
      "Musa\n",
      "Huzaifa\n",
      "Subhan\n"
     ]
    }
   ],
   "source": [
    "name=[\"Abdullah\",\"Ali\",\"Musa\",\"Huzaifa\",\"Subhan\"]\n",
    "print(name[0])\n",
    "print(name[1])\n",
    "print(name[2])\n",
    "print(name[3])\n",
    "print(name[4])"
   ]
  },
  {
   "cell_type": "markdown",
   "metadata": {},
   "source": [
    "Exercise 3-2: Greetings"
   ]
  },
  {
   "cell_type": "code",
   "execution_count": 3,
   "metadata": {},
   "outputs": [
    {
     "name": "stdout",
     "output_type": "stream",
     "text": [
      "Hello Abdullah ! Welcome to my Agentic Ai World.\n",
      "Hello Ali ! Welcome to my Agentic Ai World.\n",
      "Hello Musa ! Welcome to my Agentic Ai World.\n",
      "Hello Huzaifa ! Welcome to my Agentic Ai World.\n",
      "Hello Subhan ! Welcome to my Agentic Ai World.\n"
     ]
    }
   ],
   "source": [
    "print(f'Hello {name[0]} ! Welcome to my Agentic Ai World.')\n",
    "print(f'Hello {name[1]} ! Welcome to my Agentic Ai World.')\n",
    "print(f'Hello {name[2]} ! Welcome to my Agentic Ai World.')\n",
    "print(f'Hello {name[3]} ! Welcome to my Agentic Ai World.')\n",
    "print(f'Hello {name[4]} ! Welcome to my Agentic Ai World.')"
   ]
  },
  {
   "cell_type": "markdown",
   "metadata": {},
   "source": [
    "Exercise 3-3: Your Own List"
   ]
  },
  {
   "cell_type": "code",
   "execution_count": 1,
   "metadata": {},
   "outputs": [
    {
     "name": "stdout",
     "output_type": "stream",
     "text": [
      "I would like to own a Honda Civic .\n",
      "I would like to own a Bugatti Chiron.\n",
      "I would like to own a Toyota Supera mk4.\n",
      "I would like to own a Mercedes Benz G-Class.\n"
     ]
    }
   ],
   "source": [
    "Car=[\"Honda\",\"Bugatti\",\"Toyota\",\"Mercedes\"]\n",
    "print(f'I would like to own a {Car[0]} Civic .')\n",
    "print(f'I would like to own a {Car[1]} Chiron.')\n",
    "print(f'I would like to own a {Car[2]} Supera mk4.')\n",
    "print(f'I would like to own a {Car[3]} Benz G-Class.')"
   ]
  },
  {
   "cell_type": "markdown",
   "metadata": {},
   "source": [
    "Exercise 3-4: Guest List"
   ]
  },
  {
   "cell_type": "code",
   "execution_count": 1,
   "metadata": {},
   "outputs": [
    {
     "name": "stdout",
     "output_type": "stream",
     "text": [
      "Hello Abdullah ! How are you? It would be my pleasure if you could join me for a dinner tomorrow.\n",
      "Hello Ali ! How are you? It would be my pleasure if you could join me for a dinner tomorrow.\n",
      "Hello Saqib ! How are you? It would be my pleasure if you could join me for a dinner tomorrow.\n"
     ]
    }
   ],
   "source": [
    "dinner=[\"Abdullah\",\"Ali\",\"Saqib\"]\n",
    "print(f'Hello {dinner[0]} ! How are you? It would be my pleasure if you could join me for a dinner tomorrow.')\n",
    "print(f'Hello {dinner[1]} ! How are you? It would be my pleasure if you could join me for a dinner tomorrow.')\n",
    "print(f'Hello {dinner[2]} ! How are you? It would be my pleasure if you could join me for a dinner tomorrow.')"
   ]
  },
  {
   "cell_type": "markdown",
   "metadata": {},
   "source": [
    "Exercise 3-5: Changing Guest List"
   ]
  },
  {
   "cell_type": "code",
   "execution_count": 2,
   "metadata": {},
   "outputs": [
    {
     "name": "stdout",
     "output_type": "stream",
     "text": [
      "Hello Usman ! How are you? It would be my pleasure if you could join me for a dinner tomorrow.\n",
      "Hello Ali ! How are you? It would be my pleasure if you could join me for a dinner tomorrow.\n",
      "Hello Saqib ! How are you? It would be my pleasure if you could join me for a dinner tomorrow.\n"
     ]
    }
   ],
   "source": [
    "dinner_again= dinner.remove(dinner[0])\n",
    "dinner_again= dinner.insert(0,'Usman')\n",
    "print(f'Hello {dinner[0]} ! How are you? It would be my pleasure if you could join me for a dinner tomorrow.')\n",
    "print(f'Hello {dinner[1]} ! How are you? It would be my pleasure if you could join me for a dinner tomorrow.')\n",
    "print(f'Hello {dinner[2]} ! How are you? It would be my pleasure if you could join me for a dinner tomorrow.')"
   ]
  },
  {
   "cell_type": "markdown",
   "metadata": {},
   "source": [
    "Exercise 3-6: More Guests"
   ]
  },
  {
   "cell_type": "code",
   "execution_count": 3,
   "metadata": {},
   "outputs": [
    {
     "name": "stdout",
     "output_type": "stream",
     "text": [
      "Hello Guys I have just found a bigger dinner table. That's way I am inviting.\n",
      "['Usman', 'Ali', 'Saqib', 'Musa', 'Huzaifa', 'Subhan']\n",
      "Hello, Usman! How are you? It would be my pleasure if you could join me for a dinner tomorrow.\n",
      "Hello, Ali! How are you? It would be my pleasure if you could join me for a dinner tomorrow.\n",
      "Hello, Saqib! How are you? It would be my pleasure if you could join me for a dinner tomorrow.\n",
      "Hello, Musa! How are you? It would be my pleasure if you could join me for a dinner tomorrow.\n",
      "Hello, Huzaifa! How are you? It would be my pleasure if you could join me for a dinner tomorrow.\n",
      "Hello, Subhan! How are you? It would be my pleasure if you could join me for a dinner tomorrow.\n"
     ]
    }
   ],
   "source": [
    "print(\"Hello Guys I have just found a bigger dinner table. That's way I am inviting.\")\n",
    "dinner_again= dinner.insert(3,'Musa')\n",
    "dinner_again= dinner.insert(4,'Huzaifa')\n",
    "dinner_again= dinner.insert(5,'Subhan')\n",
    "print(dinner)\n",
    "print(f'Hello, {dinner[0]}! How are you? It would be my pleasure if you could join me for a dinner tomorrow.')\n",
    "print(f'Hello, {dinner[1]}! How are you? It would be my pleasure if you could join me for a dinner tomorrow.')\n",
    "print(f'Hello, {dinner[2]}! How are you? It would be my pleasure if you could join me for a dinner tomorrow.')\n",
    "print(f'Hello, {dinner[3]}! How are you? It would be my pleasure if you could join me for a dinner tomorrow.')\n",
    "print(f'Hello, {dinner[4]}! How are you? It would be my pleasure if you could join me for a dinner tomorrow.')\n",
    "print(f'Hello, {dinner[5]}! How are you? It would be my pleasure if you could join me for a dinner tomorrow.')"
   ]
  },
  {
   "cell_type": "markdown",
   "metadata": {},
   "source": [
    "Exercise 3-7: Shrinking Guest List"
   ]
  },
  {
   "cell_type": "code",
   "execution_count": 4,
   "metadata": {},
   "outputs": [
    {
     "name": "stdout",
     "output_type": "stream",
     "text": [
      "I have just found out that my new bigger dinner table won't come on time. Sorry guys I can't invite you all to dinner. I have space for only 02 persons.\n",
      "Sorry Subhan , I can't invite you to dinner.\n",
      "Sorry Huzaifa , I can't invite you to dinner.\n",
      "Sorry Musa , I can't invite you to dinner.\n",
      "Sorry Saqib , I can't invite you to dinner.\n",
      "Hello Usman! You are still invited to dinner tomorrow.\n",
      "Hello Ali! You are still invited to dinner tomorrow.\n",
      "['Usman', 'Ali']\n",
      "[]\n"
     ]
    }
   ],
   "source": [
    "print(\"I have just found out that my new bigger dinner table won't come on time. Sorry guys I can't invite you all to dinner. I have space for only 02 persons.\")\n",
    "popped_member_02 = dinner.pop()\n",
    "print(f\"Sorry {popped_member_02} , I can't invite you to dinner.\")\n",
    "popped_member_03 = dinner.pop()\n",
    "print(f\"Sorry {popped_member_03} , I can't invite you to dinner.\")\n",
    "popped_member_04 = dinner.pop()\n",
    "print(f\"Sorry {popped_member_04} , I can't invite you to dinner.\")\n",
    "popped_member_05 = dinner.pop()\n",
    "print(f\"Sorry {popped_member_05} , I can't invite you to dinner.\")\n",
    "print(f'Hello {dinner[0]}! You are still invited to dinner tomorrow.')\n",
    "print(f'Hello {dinner[1]}! You are still invited to dinner tomorrow.')\n",
    "print(dinner)\n",
    "del dinner[0:2]\n",
    "print(dinner)"
   ]
  },
  {
   "cell_type": "markdown",
   "metadata": {},
   "source": [
    "Exercise 3-8: Seeing the World"
   ]
  },
  {
   "cell_type": "code",
   "execution_count": 5,
   "metadata": {},
   "outputs": [
    {
     "name": "stdout",
     "output_type": "stream",
     "text": [
      "The raw list of beautiful places : ['Naran Kagan', 'Maldives', 'Masjid al-Haram', 'Hagia Sophia Grand Mosque', 'K-2']\n",
      "The sorted list using sorted() : ['Hagia Sophia Grand Mosque', 'K-2', 'Maldives', 'Masjid al-Haram', 'Naran Kagan']\n",
      "The reverse sorted list using sorted() : ['Naran Kagan', 'Masjid al-Haram', 'Maldives', 'K-2', 'Hagia Sophia Grand Mosque']\n",
      "Original list again :  ['Naran Kagan', 'Maldives', 'Masjid al-Haram', 'Hagia Sophia Grand Mosque', 'K-2']\n",
      "The reverse ordered list using reverse() :  ['K-2', 'Hagia Sophia Grand Mosque', 'Masjid al-Haram', 'Maldives', 'Naran Kagan']\n",
      "The again reverse ordered list using reverse() :  ['Naran Kagan', 'Maldives', 'Masjid al-Haram', 'Hagia Sophia Grand Mosque', 'K-2']\n",
      "The sorted list using sort() : ['Hagia Sophia Grand Mosque', 'K-2', 'Maldives', 'Masjid al-Haram', 'Naran Kagan']\n",
      "The reverse sorted list using sort() : ['Naran Kagan', 'Masjid al-Haram', 'Maldives', 'K-2', 'Hagia Sophia Grand Mosque']\n"
     ]
    }
   ],
   "source": [
    "beautiful_places = ['Naran Kagan','Maldives','Masjid al-Haram','Hagia Sophia Grand Mosque','K-2']\n",
    "print(f'The raw list of beautiful places : {beautiful_places}')\n",
    "print(f'The sorted list using sorted() : {sorted(beautiful_places)}')\n",
    "print(f'The reverse sorted list using sorted() : {sorted(beautiful_places,reverse=True)}')\n",
    "print(\"Original list again : \", beautiful_places)\n",
    "beautiful_places.reverse()\n",
    "print(\"The reverse ordered list using reverse() : \",beautiful_places)\n",
    "beautiful_places.reverse()\n",
    "print(\"The again reverse ordered list using reverse() : \",beautiful_places)\n",
    "beautiful_places.sort()\n",
    "print(f'The sorted list using sort() : {beautiful_places}')\n",
    "beautiful_places.sort(reverse=True)\n",
    "print(f'The reverse sorted list using sort() : {beautiful_places}')"
   ]
  },
  {
   "cell_type": "markdown",
   "metadata": {},
   "source": [
    "Exercise 3-9: Dinner Guests"
   ]
  },
  {
   "cell_type": "code",
   "execution_count": 6,
   "metadata": {},
   "outputs": [
    {
     "name": "stdout",
     "output_type": "stream",
     "text": [
      "The guests I invite to dinner are : 0\n"
     ]
    }
   ],
   "source": [
    "print(\"The guests I invite to dinner are :\",len(dinner))"
   ]
  },
  {
   "cell_type": "markdown",
   "metadata": {},
   "source": [
    "Exercise 3-10: Every Function"
   ]
  },
  {
   "cell_type": "code",
   "execution_count": 7,
   "metadata": {},
   "outputs": [
    {
     "name": "stdout",
     "output_type": "stream",
     "text": [
      "The original list :  ['K-2', 'Mount Everest', 'Indus River', 'Angel Falls', 'Islamabad', 'Hagia Sophia Grand Mosque', 'Galapagos Islands', 'Turkey', 'Greece']\n",
      "Greece\n",
      "The appended list : ['K-2', 'Mount Everest', 'Indus River', 'Angel Falls', 'Islamabad', 'Hagia Sophia Grand Mosque', 'Galapagos Islands', 'Turkey', 'Greece', 'Pakistan']\n",
      "The new list after using insert() : ['K-2', 'Mount Everest', 'Indus River', 'Angel Falls', 'Australia', 'Islamabad', 'Hagia Sophia Grand Mosque', 'Galapagos Islands', 'Turkey', 'Greece', 'Pakistan']\n",
      "The new list after using del : ['K-2', 'Mount Everest', 'Indus River', 'Australia', 'Islamabad', 'Hagia Sophia Grand Mosque', 'Galapagos Islands', 'Turkey', 'Greece', 'Pakistan']\n",
      "Indus River\n",
      "The new list after using pop() : ['K-2', 'Mount Everest', 'Australia', 'Islamabad', 'Hagia Sophia Grand Mosque', 'Galapagos Islands', 'Turkey', 'Greece', 'Pakistan']\n",
      "The new list after using remove() : ['K-2', 'Mount Everest', 'Australia', 'Islamabad', 'Galapagos Islands', 'Turkey', 'Greece', 'Pakistan']\n",
      "The new list after using sort() : ['Australia', 'Galapagos Islands', 'Greece', 'Islamabad', 'K-2', 'Mount Everest', 'Pakistan', 'Turkey']\n",
      "The new list after using sort(reverse = True) : ['Turkey', 'Pakistan', 'Mount Everest', 'K-2', 'Islamabad', 'Greece', 'Galapagos Islands', 'Australia']\n",
      "The new list after using sorted() : ['Australia', 'Galapagos Islands', 'Greece', 'Islamabad', 'K-2', 'Mount Everest', 'Pakistan', 'Turkey']\n",
      "The new list after using sorted(variable,reverse = True) : ['Turkey', 'Pakistan', 'Mount Everest', 'K-2', 'Islamabad', 'Greece', 'Galapagos Islands', 'Australia']\n",
      "The new list after using reverse() : ['Australia', 'Galapagos Islands', 'Greece', 'Islamabad', 'K-2', 'Mount Everest', 'Pakistan', 'Turkey']\n"
     ]
    },
    {
     "data": {
      "text/plain": [
       "8"
      ]
     },
     "execution_count": 7,
     "metadata": {},
     "output_type": "execute_result"
    }
   ],
   "source": [
    "lists= ['K-2','Mount Everest','Indus River','Angel Falls','Islamabad','Hagia Sophia Grand Mosque','Galapagos Islands','Turkey','Greece']\n",
    "print(\"The original list : \",lists)\n",
    "# 01\n",
    "print(lists[-1])\n",
    "# 02\n",
    "lists.append('Pakistan')\n",
    "print(\"The appended list :\",lists)\n",
    "# 03\n",
    "lists.insert(4,'Australia')\n",
    "print(\"The new list after using insert() :\",lists)\n",
    "# 04\n",
    "del lists[3]\n",
    "print(\"The new list after using del :\",lists)\n",
    "# 05\n",
    "popped_element = lists.pop(2)\n",
    "print(popped_element)\n",
    "print(\"The new list after using pop() :\",lists)\n",
    "# 06\n",
    "lists.remove('Hagia Sophia Grand Mosque')\n",
    "print(\"The new list after using remove() :\",lists)\n",
    "# 07\n",
    "lists.sort()\n",
    "print(\"The new list after using sort() :\",lists)\n",
    "# 08\n",
    "lists.sort(reverse = True)\n",
    "print(\"The new list after using sort(reverse = True) :\",lists)\n",
    "# 09\n",
    "print(\"The new list after using sorted() :\",sorted(lists))\n",
    "# 10\n",
    "print(\"The new list after using sorted(variable,reverse = True) :\",sorted(lists,reverse=True))\n",
    "# 11\n",
    "lists.reverse()\n",
    "print(\"The new list after using reverse() :\",lists)\n",
    "# 12\n",
    "len(lists)"
   ]
  },
  {
   "cell_type": "markdown",
   "metadata": {},
   "source": [
    " THE END "
   ]
  }
 ],
 "metadata": {
  "kernelspec": {
   "display_name": "Python 3",
   "language": "python",
   "name": "python3"
  },
  "language_info": {
   "codemirror_mode": {
    "name": "ipython",
    "version": 3
   },
   "file_extension": ".py",
   "mimetype": "text/x-python",
   "name": "python",
   "nbconvert_exporter": "python",
   "pygments_lexer": "ipython3",
   "version": "3.13.1"
  }
 },
 "nbformat": 4,
 "nbformat_minor": 2
}
